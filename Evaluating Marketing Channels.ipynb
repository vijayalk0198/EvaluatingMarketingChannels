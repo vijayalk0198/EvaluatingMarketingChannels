{
 "cells": [
  {
   "cell_type": "markdown",
   "id": "7b9d172f",
   "metadata": {},
   "source": [
    "## Evaluating Marketing Channels for FoodFusion Campaigning Data"
   ]
  },
  {
   "cell_type": "markdown",
   "id": "304be49c",
   "metadata": {},
   "source": [
    "The FoodFusion Marketing Campaign Data is a simulated dataset created to provide a realistic scenario for analyzing marketing campaigns. It contains information about users who received marketing messages from FoodFusion, a meal kit delivery service, across various channels. This project focuses on evaluating the effectiveness of these marketing channels in driving user subscription and retention. By exploring subscription and retention analysis, segmentation, and other aspects of marketing data science, the goal is to identify the most effective channels for customer acquisition and retention. Ultimately, the project aims to provide data-driven insights to optimize FoodFusion's marketing strategies."
   ]
  },
  {
   "cell_type": "code",
   "execution_count": 85,
   "id": "e3f95390",
   "metadata": {},
   "outputs": [],
   "source": [
    "import pandas as pd\n",
    "import matplotlib.pyplot as plt\n",
    "import seaborn as sns\n",
    "from scipy import stats"
   ]
  },
  {
   "cell_type": "code",
   "execution_count": 86,
   "id": "afd30aa6",
   "metadata": {},
   "outputs": [],
   "source": [
    "data = pd.read_csv(\"foodfusion_marketing_london.csv\", sep=',')"
   ]
  },
  {
   "cell_type": "code",
   "execution_count": 87,
   "id": "a892b7cd",
   "metadata": {},
   "outputs": [
    {
     "data": {
      "text/html": [
       "<div>\n",
       "<style scoped>\n",
       "    .dataframe tbody tr th:only-of-type {\n",
       "        vertical-align: middle;\n",
       "    }\n",
       "\n",
       "    .dataframe tbody tr th {\n",
       "        vertical-align: top;\n",
       "    }\n",
       "\n",
       "    .dataframe thead th {\n",
       "        text-align: right;\n",
       "    }\n",
       "</style>\n",
       "<table border=\"1\" class=\"dataframe\">\n",
       "  <thead>\n",
       "    <tr style=\"text-align: right;\">\n",
       "      <th></th>\n",
       "      <th>user_id</th>\n",
       "      <th>date_served</th>\n",
       "      <th>subscribing_channel</th>\n",
       "      <th>converted</th>\n",
       "      <th>is_retained</th>\n",
       "      <th>dietary_preference</th>\n",
       "      <th>meal_type</th>\n",
       "      <th>location</th>\n",
       "      <th>age_group</th>\n",
       "    </tr>\n",
       "  </thead>\n",
       "  <tbody>\n",
       "    <tr>\n",
       "      <th>0</th>\n",
       "      <td>1</td>\n",
       "      <td>2023-06-13</td>\n",
       "      <td>Email</td>\n",
       "      <td>True</td>\n",
       "      <td>False</td>\n",
       "      <td>Vegetarian</td>\n",
       "      <td>Lunch</td>\n",
       "      <td>Greenwich</td>\n",
       "      <td>46+ years</td>\n",
       "    </tr>\n",
       "    <tr>\n",
       "      <th>1</th>\n",
       "      <td>2</td>\n",
       "      <td>2023-01-27</td>\n",
       "      <td>Influencers</td>\n",
       "      <td>True</td>\n",
       "      <td>False</td>\n",
       "      <td>Vegan</td>\n",
       "      <td>Breakfast</td>\n",
       "      <td>Camden</td>\n",
       "      <td>19-24 years</td>\n",
       "    </tr>\n",
       "    <tr>\n",
       "      <th>2</th>\n",
       "      <td>3</td>\n",
       "      <td>2023-03-01</td>\n",
       "      <td>House Ads</td>\n",
       "      <td>True</td>\n",
       "      <td>True</td>\n",
       "      <td>Omnivore</td>\n",
       "      <td>Snack</td>\n",
       "      <td>Greenwich</td>\n",
       "      <td>31-36 years</td>\n",
       "    </tr>\n",
       "    <tr>\n",
       "      <th>3</th>\n",
       "      <td>4</td>\n",
       "      <td>2023-05-31</td>\n",
       "      <td>Instagram</td>\n",
       "      <td>True</td>\n",
       "      <td>True</td>\n",
       "      <td>Keto</td>\n",
       "      <td>Dinner</td>\n",
       "      <td>Hackney</td>\n",
       "      <td>19-24 years</td>\n",
       "    </tr>\n",
       "    <tr>\n",
       "      <th>4</th>\n",
       "      <td>5</td>\n",
       "      <td>2023-02-25</td>\n",
       "      <td>Instagram</td>\n",
       "      <td>True</td>\n",
       "      <td>True</td>\n",
       "      <td>Keto</td>\n",
       "      <td>Breakfast</td>\n",
       "      <td>Hackney</td>\n",
       "      <td>25-30 years</td>\n",
       "    </tr>\n",
       "  </tbody>\n",
       "</table>\n",
       "</div>"
      ],
      "text/plain": [
       "   user_id date_served subscribing_channel  converted  is_retained  \\\n",
       "0        1  2023-06-13               Email       True        False   \n",
       "1        2  2023-01-27         Influencers       True        False   \n",
       "2        3  2023-03-01           House Ads       True         True   \n",
       "3        4  2023-05-31           Instagram       True         True   \n",
       "4        5  2023-02-25           Instagram       True         True   \n",
       "\n",
       "  dietary_preference  meal_type   location    age_group  \n",
       "0         Vegetarian      Lunch  Greenwich    46+ years  \n",
       "1              Vegan  Breakfast     Camden  19-24 years  \n",
       "2           Omnivore      Snack  Greenwich  31-36 years  \n",
       "3               Keto     Dinner    Hackney  19-24 years  \n",
       "4               Keto  Breakfast    Hackney  25-30 years  "
      ]
     },
     "execution_count": 87,
     "metadata": {},
     "output_type": "execute_result"
    }
   ],
   "source": [
    "data.head(5)"
   ]
  },
  {
   "cell_type": "code",
   "execution_count": 88,
   "id": "bd224f37",
   "metadata": {},
   "outputs": [
    {
     "name": "stdout",
     "output_type": "stream",
     "text": [
      "<class 'pandas.core.frame.DataFrame'>\n",
      "RangeIndex: 10000 entries, 0 to 9999\n",
      "Data columns (total 9 columns):\n",
      " #   Column               Non-Null Count  Dtype \n",
      "---  ------               --------------  ----- \n",
      " 0   user_id              10000 non-null  int64 \n",
      " 1   date_served          10000 non-null  object\n",
      " 2   subscribing_channel  10000 non-null  object\n",
      " 3   converted            10000 non-null  bool  \n",
      " 4   is_retained          10000 non-null  bool  \n",
      " 5   dietary_preference   10000 non-null  object\n",
      " 6   meal_type            10000 non-null  object\n",
      " 7   location             10000 non-null  object\n",
      " 8   age_group            10000 non-null  object\n",
      "dtypes: bool(2), int64(1), object(6)\n",
      "memory usage: 566.5+ KB\n"
     ]
    }
   ],
   "source": [
    "data.info()"
   ]
  },
  {
   "cell_type": "markdown",
   "id": "c4d36aaa",
   "metadata": {},
   "source": [
    "The columns in the dataset are as follows:\n",
    "\n",
    "1) user_id: A unique identifier for each user.\n",
    "\n",
    "2) date_served: The date on which the marketing message was served to the user.\n",
    "\n",
    "3) subscribing_channel: The marketing channel through which the user subscribed (e.g., Email, Facebook, Instagram, Push Notifications, House Ads, Influencers).\n",
    "\n",
    "4) converted: A boolean value indicating whether the user subscribed after receiving the marketing message (True if subscribed, False otherwise).\n",
    "\n",
    "5) is_retained: A boolean value indicating if the user was retained after subscribing, based on a one-month retention period (True if retained, False if not).\n",
    "\n",
    "6) dietary_preference: The dietary preference of the user (e.g., Vegan, Vegetarian, Gluten-Free, Keto, Omnivore).\n",
    "\n",
    "7) meal_type: The preferred meal kit type of the user (e.g., Breakfast, Lunch, Dinner, Snack).\n",
    "\n",
    "8) location: The borough in London where the user is located (e.g., Camden, Greenwich, Hackney, Hammersmith and Fulham, Islington).\n",
    "\n",
    "9) age_group: The age group of the user (e.g., 0-18 years, 19-24 years, 25-30 years, 31-36 years, 37-45 years, 46+ years)."
   ]
  },
  {
   "cell_type": "code",
   "execution_count": 89,
   "id": "5b82ac85",
   "metadata": {},
   "outputs": [],
   "source": [
    "data['date_served'] = pd.to_datetime(data['date_served'], errors='coerce')\n",
    "data['month'] = data['date_served'].dt.month\n",
    "month_mapping = {1: 'January', 2: 'February', 3: 'March', 4: 'April', 5: 'May', 6: 'June'}\n",
    "data['month_name'] = data['month'].map(month_mapping)"
   ]
  },
  {
   "cell_type": "markdown",
   "id": "8cefc6b1",
   "metadata": {},
   "source": [
    "### 1. Analysing Subscription Rate across marketing channels"
   ]
  },
  {
   "cell_type": "markdown",
   "id": "c52608b8",
   "metadata": {},
   "source": [
    "#### 1.a) What is the overall subscription rate in the dataset?"
   ]
  },
  {
   "cell_type": "code",
   "execution_count": 90,
   "id": "29a551d0",
   "metadata": {},
   "outputs": [
    {
     "name": "stdout",
     "output_type": "stream",
     "text": [
      "Overall Subscription Rate: 50.20%\n"
     ]
    }
   ],
   "source": [
    "overall_subscription_rate = data['converted'].mean()\n",
    "print(f\"Overall Subscription Rate: {overall_subscription_rate * 100:.2f}%\")"
   ]
  },
  {
   "cell_type": "markdown",
   "id": "e97f9e5c",
   "metadata": {},
   "source": [
    "#### 1.b) Subscription rate across different marketing channels"
   ]
  },
  {
   "cell_type": "code",
   "execution_count": 91,
   "id": "90e2b693",
   "metadata": {},
   "outputs": [
    {
     "name": "stdout",
     "output_type": "stream",
     "text": [
      "subscribing_channel\n",
      "Email          48.36%\n",
      "Facebook       51.40%\n",
      "House Ads      51.29%\n",
      "Influencers    48.52%\n",
      "Instagram      51.64%\n",
      "Push           50.00%\n",
      "Name: converted, dtype: object\n"
     ]
    }
   ],
   "source": [
    "channel_subscription = data.groupby('subscribing_channel')['converted'].mean() * 100\n",
    "channel_susbcription = channel_subscription.apply(lambda x: f\"{x:.2f}%\")\n",
    "print(channel_conversion)"
   ]
  },
  {
   "cell_type": "code",
   "execution_count": 92,
   "id": "af9fc6ce",
   "metadata": {},
   "outputs": [
    {
     "data": {
      "image/png": "[encoded data removed]",
      "text/plain": [
       "<Figure size 576x432 with 1 Axes>"
      ]
     },
     "metadata": {
      "needs_background": "light"
     },
     "output_type": "display_data"
    }
   ],
   "source": [
    "channel_subscription_rate = data.groupby('subscribing_channel')['converted'].mean() * 100\n",
    "channel_subscription_rate_df = channel_subscription_rate.reset_index()\n",
    "channel_subscription_rate_df.rename(columns={'converted': 'conversion_rate'}, inplace=True)\n",
    "\n",
    "plt.figure(figsize=(8, 6))\n",
    "sns.barplot(\n",
    "    data=channel_subscription_rate_df, \n",
    "    x='conversion_rate', \n",
    "    y='subscribing_channel', \n",
    "    palette='coolwarm'\n",
    ")\n",
    "plt.title(\"Subscription Rate by Marketing Channel\", fontsize=14, fontweight='bold')\n",
    "plt.xlabel(\"Subscription Rate (%)\", fontsize=12)\n",
    "plt.ylabel(\"Marketing Channel\", fontsize=12)\n",
    "plt.show()"
   ]
  },
  {
   "cell_type": "markdown",
   "id": "5d269611",
   "metadata": {},
   "source": [
    "#### 1.c) Is there a significant difference in subscription rates between the channels?"
   ]
  },
  {
   "cell_type": "code",
   "execution_count": 93,
   "id": "37f56a44",
   "metadata": {},
   "outputs": [
    {
     "name": "stdout",
     "output_type": "stream",
     "text": [
      "Contingency Table:\n",
      "converted            False  True\n",
      "subscribing_channel             \n",
      "Email                  868   813\n",
      "Facebook               816   863\n",
      "House Ads              809   852\n",
      "Influencers            853   804\n",
      "Instagram              798   852\n",
      "Push                   836   836\n",
      "\n",
      "Chi-Squared Statistic: 7.2848\n",
      "Degrees of Freedom: 5\n",
      "P-value: 0.2003\n",
      "\n",
      "There is no significant association between marketing channels and subscription rates (p >= 0.05).\n"
     ]
    }
   ],
   "source": [
    "contingency_table = pd.crosstab(data['subscribing_channel'], data['converted'])\n",
    "\n",
    "print(\"Contingency Table:\")\n",
    "print(contingency_table)\n",
    "\n",
    "chi2_stat, p_value, dof, expected = stats.chi2_contingency(contingency_table)\n",
    "print(f\"\\nChi-Squared Statistic: {chi2_stat:.4f}\")\n",
    "print(f\"Degrees of Freedom: {dof}\")\n",
    "print(f\"P-value: {p_value:.4f}\")\n",
    "\n",
    "\n",
    "if p_value < 0.05:\n",
    "    print(\"\\nThere is a significant association between marketing channels and subscription rates (p < 0.05).\")\n",
    "else:\n",
    "    print(\"\\nThere is no significant association between marketing channels and subscription rates (p >= 0.05).\")\n"
   ]
  },
  {
   "cell_type": "markdown",
   "id": "5505644f",
   "metadata": {},
   "source": [
    "#### 1.d) How does the subscription rate vary across the months?"
   ]
  },
  {
   "cell_type": "code",
   "execution_count": 94,
   "id": "5bfcf195",
   "metadata": {},
   "outputs": [
    {
     "name": "stdout",
     "output_type": "stream",
     "text": [
      "Number of Subscribers for Each Month:\n",
      "January: 835\n",
      "February: 767\n",
      "March: 856\n",
      "April: 823\n",
      "May: 873\n",
      "June: 866\n"
     ]
    },
    {
     "data": {
      "image/png": "[encoded data removed]",
      "text/plain": [
       "<Figure size 576x432 with 1 Axes>"
      ]
     },
     "metadata": {
      "needs_background": "light"
     },
     "output_type": "display_data"
    }
   ],
   "source": [
    "monthly_subscribers = data[data['converted']].groupby('month_name').size()\n",
    "ordered_months = ['January', 'February', 'March', 'April', 'May', 'June']\n",
    "monthly_subscribers = monthly_subscribers.reindex(ordered_months)\n",
    "monthly_subscribers = monthly_subscribers.reset_index()\n",
    "monthly_subscribers.rename(columns={0: 'subscriber_count', 'month_name': 'month'}, inplace=True)\n",
    "\n",
    "\n",
    "print(\"Number of Subscribers for Each Month:\")\n",
    "for index, row in monthly_subscribers.iterrows():\n",
    "    print(f\"{row['month']}: {row['subscriber_count']}\")\n",
    "\n",
    "plt.figure(figsize=(8, 6))\n",
    "sns.barplot(x='month', y='subscriber_count', data=monthly_subscribers, palette='coolwarm')\n",
    "\n",
    "for index, row in monthly_subscribers.iterrows():\n",
    "    plt.text(index, row['subscriber_count'] + 1, str(row['subscriber_count']),\n",
    "             ha='center', va='bottom', fontsize=10, color='black')\n",
    "\n",
    "plt.title(\"Number of Subscribers Per Month\", fontsize=14, fontweight='bold')\n",
    "plt.xlabel(\"Month\", fontsize=12)\n",
    "plt.ylabel(\"Number of Subscribers\", fontsize=12)\n",
    "plt.xticks(rotation=45, fontsize=10)\n",
    "plt.yticks(fontsize=10)\n",
    "plt.grid(axis='y', linestyle='--', alpha=0.7)\n",
    "plt.tight_layout()\n",
    "plt.show()"
   ]
  },
  {
   "cell_type": "markdown",
   "id": "cd1b7472",
   "metadata": {},
   "source": [
    "**Findings:**\n",
    "\n",
    "- The overall subscription rate is 50.20%, indicating that about half of the users who received marketing messages converted to subscriptions.\n",
    "- Subscription rates across different marketing channels vary slightly, with Instagram having the highest rate (51.64%) and Email the lowest (48.36%).\n",
    "- A Chi-squared test revealed no significant association between marketing channels and subscription rates (p = 0.2003), suggesting that the channel used does not strongly influence the likelihood of subscription.\n",
    "- Subscription rates fluctuate across months, with the highest number of subscribers in June (866) and the lowest in February (767)."
   ]
  },
  {
   "cell_type": "markdown",
   "id": "5d83130f",
   "metadata": {},
   "source": [
    "### 2. Analysing Retention Rate across marketing channels"
   ]
  },
  {
   "cell_type": "markdown",
   "id": "a96523fe",
   "metadata": {},
   "source": [
    "#### 2.a) What is the overall retention rate, and how does the retention rate differ for each marketing channel?"
   ]
  },
  {
   "cell_type": "code",
   "execution_count": 95,
   "id": "b3b32ddb",
   "metadata": {},
   "outputs": [
    {
     "name": "stdout",
     "output_type": "stream",
     "text": [
      "Overall Retention Rate: 49.32%\n",
      "\n",
      "Retention Rate by Marketing Channel:\n",
      "  subscribing_channel  retention_rate\n",
      "0               Email        0.468635\n",
      "1            Facebook        0.497103\n",
      "2           House Ads        0.523474\n",
      "3         Influencers        0.504975\n",
      "4           Instagram        0.487089\n",
      "5                Push        0.477273\n"
     ]
    }
   ],
   "source": [
    "total_users = data['user_id'].nunique()\n",
    "converted_users = data[data['converted'] == True]['user_id'].nunique()\n",
    "retained_users = data[data['is_retained'] == True]['user_id'].nunique()\n",
    "\n",
    "overall_retention_rate = retained_users / converted_users\n",
    "print(f\"Overall Retention Rate: {overall_retention_rate * 100:.2f}%\")\n",
    "\n",
    "channel_retention_data = data[data['converted'] == True].groupby('subscribing_channel').agg(\n",
    "    converted_users=('user_id', 'nunique'),  \n",
    "    retained_users=('is_retained', 'sum')   \n",
    ").reset_index()\n",
    "\n",
    "channel_retention_data['retention_rate'] = channel_retention_data['retained_users'] / channel_retention_data['converted_users']\n",
    "print(\"\\nRetention Rate by Marketing Channel:\")\n",
    "print(channel_retention_data[['subscribing_channel', 'retention_rate']])\n"
   ]
  },
  {
   "cell_type": "code",
   "execution_count": 96,
   "id": "5a971977",
   "metadata": {},
   "outputs": [
    {
     "data": {
      "image/png": "[encoded data removed]",
      "text/plain": [
       "<Figure size 576x432 with 1 Axes>"
      ]
     },
     "metadata": {
      "needs_background": "light"
     },
     "output_type": "display_data"
    }
   ],
   "source": [
    "plt.figure(figsize=(8, 6))\n",
    "sns.barplot(x='subscribing_channel', y='retention_rate', data=channel_retention_data, palette='coolwarm')\n",
    "plt.title(\"Retention Rate by Subscribing Channel\", fontsize=14, fontweight='bold')\n",
    "plt.xlabel(\"Marketing Channel\", fontsize=12)\n",
    "plt.ylabel(\"Retention Rate (%)\", fontsize=12)\n",
    "plt.xticks(rotation=45)\n",
    "plt.show()"
   ]
  },
  {
   "cell_type": "markdown",
   "id": "43c13730",
   "metadata": {},
   "source": [
    "#### 2.b) Is there a significant difference in retention rates between the channels?"
   ]
  },
  {
   "cell_type": "code",
   "execution_count": 97,
   "id": "30b00525",
   "metadata": {},
   "outputs": [
    {
     "name": "stdout",
     "output_type": "stream",
     "text": [
      "\n",
      "Chi-Squared Statistic: 9.3393\n",
      "P-value: 0.0963\n",
      "\n",
      "There is no significant difference in retention rates between marketing channels (p >= 0.05).\n"
     ]
    }
   ],
   "source": [
    "contingency_table = pd.crosstab(data['subscribing_channel'], data['is_retained'])\n",
    "chi2_stat, p_value, dof, expected = stats.chi2_contingency(contingency_table)\n",
    "print(f\"\\nChi-Squared Statistic: {chi2_stat:.4f}\")\n",
    "print(f\"P-value: {p_value:.4f}\")\n",
    "\n",
    "if p_value < 0.05:\n",
    "    print(\"\\nThere is a significant difference in retention rates between marketing channels (p < 0.05).\")\n",
    "else:\n",
    "    print(\"\\nThere is no significant difference in retention rates between marketing channels (p >= 0.05).\")\n"
   ]
  },
  {
   "cell_type": "markdown",
   "id": "36112ade",
   "metadata": {},
   "source": [
    "**Findings:**\n",
    "\n",
    "- The overall retention rate is 49.32%, indicating that almost half of the users who subscribed remained active after the trial period.\n",
    "- Retention rates vary across marketing channels, with House Ads having the highest retention rate (52.35%) and Email the lowest (46.86%).\n",
    "- A Chi-squared test showed no significant difference in retention rates between the marketing channels (p = 0.0963), suggesting that the channel through which users were acquired does not significantly impact their likelihood of retention."
   ]
  },
  {
   "cell_type": "markdown",
   "id": "cb102bd7",
   "metadata": {},
   "source": [
    "### 3. Subscription and retention rates by age group, meal type and dietary preferences"
   ]
  },
  {
   "cell_type": "code",
   "execution_count": 98,
   "id": "35bd7dc9",
   "metadata": {},
   "outputs": [
    {
     "name": "stdout",
     "output_type": "stream",
     "text": [
      "Subscription Rate by Age Group:\n",
      "age_group\n",
      "0-18 years     51.35%\n",
      "19-24 years    49.09%\n",
      "25-30 years    49.19%\n",
      "31-36 years    50.27%\n",
      "37-45 years    50.27%\n",
      "46+ years      51.02%\n",
      "Name: converted, dtype: object\n",
      "\n",
      "Subscription Rate by Meal Type:\n",
      "meal_type\n",
      "Breakfast    51.17%\n",
      "Dinner       50.41%\n",
      "Lunch        49.84%\n",
      "Snack        49.42%\n",
      "Name: converted, dtype: object\n",
      "\n",
      "Subscription Rate by Dietary Preference:\n",
      "dietary_preference\n",
      "Gluten-Free    49.88%\n",
      "Keto           50.83%\n",
      "Omnivore       50.10%\n",
      "Vegan          50.35%\n",
      "Vegetarian     49.82%\n",
      "Name: converted, dtype: object\n",
      "\n",
      "Retention Rate by Age Group:\n",
      "age_group\n",
      "0-18 years     47.61%\n",
      "19-24 years    49.19%\n",
      "25-30 years    50.73%\n",
      "31-36 years    49.94%\n",
      "37-45 years    50.90%\n",
      "46+ years      47.64%\n",
      "Name: is_retained, dtype: object\n",
      "\n",
      "Retention Rate by Meal Type:\n",
      "meal_type\n",
      "Breakfast    50.28%\n",
      "Dinner       49.77%\n",
      "Lunch        49.92%\n",
      "Snack        47.36%\n",
      "Name: is_retained, dtype: object\n",
      "\n",
      "Retention Rate by Dietary Preference:\n",
      "dietary_preference\n",
      "Gluten-Free    51.90%\n",
      "Keto           46.83%\n",
      "Omnivore       50.61%\n",
      "Vegan          47.58%\n",
      "Vegetarian     49.85%\n",
      "Name: is_retained, dtype: object\n"
     ]
    }
   ],
   "source": [
    "subscription_by_age = data.groupby('age_group')['converted'].mean() * 100\n",
    "subscription_by_meal = data.groupby('meal_type')['converted'].mean() * 100\n",
    "subscription_by_diet = data.groupby('dietary_preference')['converted'].mean() * 100\n",
    "\n",
    "retention_by_age = data[data['converted']].groupby('age_group')['is_retained'].mean() * 100\n",
    "retention_by_meal = data[data['converted']].groupby('meal_type')['is_retained'].mean() * 100\n",
    "retention_by_diet = data[data['converted']].groupby('dietary_preference')['is_retained'].mean() * 100\n",
    "\n",
    "print(\"Subscription Rate by Age Group:\")\n",
    "print(subscription_by_age.apply(lambda x: f\"{x:.2f}%\"))\n",
    "\n",
    "print(\"\\nSubscription Rate by Meal Type:\")\n",
    "print(subscription_by_meal.apply(lambda x: f\"{x:.2f}%\"))\n",
    "\n",
    "print(\"\\nSubscription Rate by Dietary Preference:\")\n",
    "print(subscription_by_diet.apply(lambda x: f\"{x:.2f}%\"))\n",
    "\n",
    "print(\"\\nRetention Rate by Age Group:\")\n",
    "print(retention_by_age.apply(lambda x: f\"{x:.2f}%\"))\n",
    "\n",
    "print(\"\\nRetention Rate by Meal Type:\")\n",
    "print(retention_by_meal.apply(lambda x: f\"{x:.2f}%\"))\n",
    "\n",
    "print(\"\\nRetention Rate by Dietary Preference:\")\n",
    "print(retention_by_diet.apply(lambda x: f\"{x:.2f}%\"))\n"
   ]
  },
  {
   "cell_type": "markdown",
   "id": "728d6850",
   "metadata": {},
   "source": [
    "**Findings:** The subscription rate shows little variation across age groups, with the highest rate in the 0-18 years group (51.35%) and the lowest in the 19-24 years group (49.09%). Meal type preferences reveal a slightly higher subscription rate for Breakfast (51.17%), while Snack had the lowest (49.42%). Subscription rates across dietary preferences are fairly similar, with Keto having the highest at 50.83%. In terms of retention, the 37-45 years age group had the highest retention rate (50.90%), while the 46+ years group had the lowest (47.64%). Keto users had the lowest retention rate at 46.83%."
   ]
  },
  {
   "cell_type": "markdown",
   "id": "4e1da9e6",
   "metadata": {},
   "source": [
    "### 4. How do users acquired through influencers differ from users acquired through other channels?"
   ]
  },
  {
   "cell_type": "code",
   "execution_count": 99,
   "id": "91ff4df7",
   "metadata": {},
   "outputs": [
    {
     "name": "stdout",
     "output_type": "stream",
     "text": [
      "Influencer Subscription Rate: 48.52%\n",
      "Other Channels Subscription Rate: 50.53%\n",
      "Influencer Retention Rate: 50.50%\n",
      "Other Channels Retention Rate: 49.10%\n",
      "\n",
      "Influencer Dietary Preferences:\n",
      "Keto           21.12%\n",
      "Vegan          20.76%\n",
      "Gluten-Free    20.58%\n",
      "Omnivore       18.89%\n",
      "Vegetarian     18.65%\n",
      "Name: dietary_preference, dtype: object\n",
      "\n",
      "Other Channels Dietary Preferences:\n",
      "Keto           20.38%\n",
      "Vegetarian     20.04%\n",
      "Vegan          19.99%\n",
      "Gluten-Free    19.90%\n",
      "Omnivore       19.69%\n",
      "Name: dietary_preference, dtype: object\n",
      "\n",
      "Influencer Meal Types:\n",
      "Snack        26.92%\n",
      "Dinner       25.77%\n",
      "Breakfast    23.84%\n",
      "Lunch        23.48%\n",
      "Name: meal_type, dtype: object\n",
      "\n",
      "Other Channels Meal Types:\n",
      "Snack        25.48%\n",
      "Dinner       25.36%\n",
      "Lunch        24.68%\n",
      "Breakfast    24.48%\n",
      "Name: meal_type, dtype: object\n",
      "\n",
      "Influencer Age Groups:\n",
      "19-24 years    18.04%\n",
      "37-45 years    18.04%\n",
      "0-18 years     16.23%\n",
      "25-30 years    16.05%\n",
      "46+ years      15.81%\n",
      "31-36 years    15.81%\n",
      "Name: age_group, dtype: object\n",
      "\n",
      "Other Channels Age Groups:\n",
      "31-36 years    17.15%\n",
      "25-30 years    16.84%\n",
      "46+ years      16.78%\n",
      "0-18 years     16.78%\n",
      "37-45 years    16.37%\n",
      "19-24 years    16.07%\n",
      "Name: age_group, dtype: object\n"
     ]
    }
   ],
   "source": [
    "influencer_data = data[data['subscribing_channel'] == 'Influencers']\n",
    "other_channels_data = data[data['subscribing_channel'] != 'Influencers']\n",
    "\n",
    "influencer_subscription_rate = influencer_data['converted'].mean() * 100\n",
    "other_channels_subscription_rate = other_channels_data['converted'].mean() * 100\n",
    "\n",
    "influencer_retention_rate = influencer_data[influencer_data['converted']]['is_retained'].mean() * 100\n",
    "other_channels_retention_rate = other_channels_data[other_channels_data['converted']]['is_retained'].mean() * 100\n",
    "\n",
    "influencer_dietary = influencer_data['dietary_preference'].value_counts(normalize=True) * 100\n",
    "other_channels_dietary = other_channels_data['dietary_preference'].value_counts(normalize=True) * 100\n",
    "\n",
    "influencer_meal_type = influencer_data['meal_type'].value_counts(normalize=True) * 100\n",
    "other_channels_meal_type = other_channels_data['meal_type'].value_counts(normalize=True) * 100\n",
    "\n",
    "influencer_age_group = influencer_data['age_group'].value_counts(normalize=True) * 100\n",
    "other_channels_age_group = other_channels_data['age_group'].value_counts(normalize=True) * 100\n",
    "\n",
    "print(f\"Influencer Subscription Rate: {influencer_subscription_rate:.2f}%\")\n",
    "print(f\"Other Channels Subscription Rate: {other_channels_subscription_rate:.2f}%\")\n",
    "\n",
    "print(f\"Influencer Retention Rate: {influencer_retention_rate:.2f}%\")\n",
    "print(f\"Other Channels Retention Rate: {other_channels_retention_rate:.2f}%\")\n",
    "\n",
    "print(\"\\nInfluencer Dietary Preferences:\")\n",
    "print(influencer_dietary.apply(lambda x: f\"{x:.2f}%\"))\n",
    "\n",
    "print(\"\\nOther Channels Dietary Preferences:\")\n",
    "print(other_channels_dietary.apply(lambda x: f\"{x:.2f}%\"))\n",
    "\n",
    "print(\"\\nInfluencer Meal Types:\")\n",
    "print(influencer_meal_type.apply(lambda x: f\"{x:.2f}%\"))\n",
    "\n",
    "print(\"\\nOther Channels Meal Types:\")\n",
    "print(other_channels_meal_type.apply(lambda x: f\"{x:.2f}%\"))\n",
    "\n",
    "print(\"\\nInfluencer Age Groups:\")\n",
    "print(influencer_age_group.apply(lambda x: f\"{x:.2f}%\"))\n",
    "\n",
    "print(\"\\nOther Channels Age Groups:\")\n",
    "print(other_channels_age_group.apply(lambda x: f\"{x:.2f}%\"))\n"
   ]
  },
  {
   "cell_type": "markdown",
   "id": "9795fbb4",
   "metadata": {},
   "source": [
    "**Findings:**\n",
    "\n",
    "- Subscription Rate: Users acquired through influencers have a slightly lower subscription rate (48.52%) compared to those acquired through other channels (50.53%).\n",
    "- Retention Rate: Influencer-acquired users have a higher retention rate (50.50%) than those from other channels (49.10%).\n",
    "- Dietary Preferences: Influencer-acquired users show a higher preference for Keto (21.12%) and Vegan (20.76%) diets compared to other channels, where Keto (20.38%) and Vegetarian (20.04%) are more popular.\n",
    "- Meal Type: Both groups prefer Snack and Dinner, though influencer-acquired users have a slightly higher preference for Snack (26.92%).\n",
    "- Age Groups: Influencer-acquired users are more evenly distributed across age groups, with notable concentrations in 19-24 years and 37-45 years."
   ]
  },
  {
   "cell_type": "markdown",
   "id": "4d26d870",
   "metadata": {},
   "source": [
    "### 5. What are the key factors influencing subscription and retention rates?"
   ]
  },
  {
   "cell_type": "code",
   "execution_count": 100,
   "id": "5a438ee1",
   "metadata": {},
   "outputs": [
    {
     "name": "stdout",
     "output_type": "stream",
     "text": [
      "Correlation Matrix:\n",
      "           age_group     month  meal_type\n",
      "age_group   1.000000 -0.017186   0.001547\n",
      "month      -0.017186  1.000000   0.007212\n",
      "meal_type   0.001547  0.007212   1.000000\n"
     ]
    },
    {
     "data": {
      "image/png": "[encoded data removed]",
      "text/plain": [
       "<Figure size 576x432 with 2 Axes>"
      ]
     },
     "metadata": {
      "needs_background": "light"
     },
     "output_type": "display_data"
    }
   ],
   "source": [
    "correlation_data = data[['age_group', 'month', 'meal_type']].copy()\n",
    "\n",
    "correlation_data['age_group'] = correlation_data['age_group'].astype('category').cat.codes\n",
    "correlation_data['meal_type'] = correlation_data['meal_type'].astype('category').cat.codes\n",
    "\n",
    "correlation_matrix = correlation_data.corr()\n",
    "\n",
    "\n",
    "print(\"Correlation Matrix:\")\n",
    "print(correlation_matrix)\n",
    "\n",
    "\n",
    "plt.figure(figsize=(8, 6))\n",
    "sns.heatmap(correlation_matrix, annot=True, cmap='coolwarm', fmt='.2f', linewidths=0.5)\n",
    "plt.title(\"Correlation Matrix\")\n",
    "plt.show()\n"
   ]
  },
  {
   "cell_type": "code",
   "execution_count": 101,
   "id": "2d314846",
   "metadata": {},
   "outputs": [
    {
     "name": "stdout",
     "output_type": "stream",
     "text": [
      "Optimization terminated successfully.\n",
      "         Current function value: 0.692438\n",
      "         Iterations 3\n",
      "                           Logit Regression Results                           \n",
      "==============================================================================\n",
      "Dep. Variable:              converted   No. Observations:                10000\n",
      "Model:                          Logit   Df Residuals:                     9978\n",
      "Method:                           MLE   Df Model:                           21\n",
      "Date:                Mon, 09 Dec 2024   Pseudo R-squ.:                0.001012\n",
      "Time:                        23:57:18   Log-Likelihood:                -6924.4\n",
      "converged:                       True   LL-Null:                       -6931.4\n",
      "Covariance Type:            nonrobust   LLR p-value:                    0.8682\n",
      "===================================================================================================\n",
      "                                      coef    std err          z      P>|z|      [0.025      0.975]\n",
      "---------------------------------------------------------------------------------------------------\n",
      "const                              -0.0180      0.094     -0.191      0.848      -0.202       0.166\n",
      "subscribing_channel_Facebook        0.1213      0.069      1.756      0.079      -0.014       0.257\n",
      "subscribing_channel_House Ads       0.1149      0.069      1.658      0.097      -0.021       0.251\n",
      "subscribing_channel_Influencers     0.0077      0.069      0.111      0.912      -0.128       0.144\n",
      "subscribing_channel_Instagram       0.1326      0.069      1.910      0.056      -0.003       0.269\n",
      "subscribing_channel_Push            0.0661      0.069      0.956      0.339      -0.069       0.202\n",
      "age_group_19-24 years              -0.0893      0.070     -1.282      0.200      -0.226       0.047\n",
      "age_group_25-30 years              -0.0884      0.069     -1.276      0.202      -0.224       0.047\n",
      "age_group_31-36 years              -0.0457      0.069     -0.662      0.508      -0.181       0.090\n",
      "age_group_37-45 years              -0.0438      0.069     -0.632      0.528      -0.180       0.092\n",
      "age_group_46+ years                -0.0140      0.069     -0.202      0.840      -0.150       0.122\n",
      "meal_type_Dinner                   -0.0297      0.057     -0.524      0.601      -0.141       0.082\n",
      "meal_type_Lunch                    -0.0520      0.057     -0.907      0.364      -0.164       0.060\n",
      "meal_type_Snack                    -0.0698      0.057     -1.232      0.218      -0.181       0.041\n",
      "dietary_preference_Keto             0.0383      0.063      0.608      0.543      -0.085       0.162\n",
      "dietary_preference_Omnivore         0.0073      0.064      0.115      0.909      -0.118       0.132\n",
      "dietary_preference_Vegan            0.0167      0.063      0.264      0.792      -0.107       0.141\n",
      "dietary_preference_Vegetarian      -0.0042      0.063     -0.066      0.948      -0.129       0.120\n",
      "location_Greenwich                  0.0283      0.063      0.453      0.651      -0.094       0.151\n",
      "location_Hackney                    0.0288      0.064      0.452      0.651      -0.096       0.154\n",
      "location_Hammersmith and Fulham     0.0007      0.063      0.011      0.991      -0.123       0.124\n",
      "location_Islington                  0.0710      0.063      1.123      0.261      -0.053       0.195\n",
      "===================================================================================================\n"
     ]
    }
   ],
   "source": [
    "import statsmodels.api as sm\n",
    "\n",
    "\n",
    "X = pd.get_dummies(data[['subscribing_channel', 'age_group', 'meal_type', 'dietary_preference', 'location']], drop_first=True)\n",
    "y = data['converted']\n",
    "\n",
    "\n",
    "X = sm.add_constant(X)\n",
    "\n",
    "logit_model = sm.Logit(y, X)\n",
    "logit_result = logit_model.fit()\n",
    "\n",
    "\n",
    "print(logit_result.summary())\n"
   ]
  },
  {
   "cell_type": "code",
   "execution_count": 102,
   "id": "0bed5cf8",
   "metadata": {},
   "outputs": [
    {
     "name": "stdout",
     "output_type": "stream",
     "text": [
      "Optimization terminated successfully.\n",
      "         Current function value: 0.690617\n",
      "         Iterations 4\n",
      "                           Logit Regression Results                           \n",
      "==============================================================================\n",
      "Dep. Variable:            is_retained   No. Observations:                 5020\n",
      "Model:                          Logit   Df Residuals:                     4998\n",
      "Method:                           MLE   Df Model:                           21\n",
      "Date:                Mon, 09 Dec 2024   Pseudo R-squ.:                0.003518\n",
      "Time:                        23:57:18   Log-Likelihood:                -3466.9\n",
      "converged:                       True   LL-Null:                       -3479.1\n",
      "Covariance Type:            nonrobust   LLR p-value:                    0.2704\n",
      "===================================================================================================\n",
      "                                      coef    std err          z      P>|z|      [0.025      0.975]\n",
      "---------------------------------------------------------------------------------------------------\n",
      "const                              -0.0791      0.133     -0.596      0.551      -0.339       0.181\n",
      "subscribing_channel_Facebook        0.1097      0.098      1.117      0.264      -0.083       0.302\n",
      "subscribing_channel_House Ads       0.2153      0.099      2.185      0.029       0.022       0.408\n",
      "subscribing_channel_Influencers     0.1556      0.100      1.557      0.120      -0.040       0.351\n",
      "subscribing_channel_Instagram       0.0752      0.099      0.763      0.445      -0.118       0.268\n",
      "subscribing_channel_Push            0.0378      0.099      0.381      0.703      -0.156       0.232\n",
      "age_group_19-24 years               0.0612      0.099      0.620      0.535      -0.132       0.255\n",
      "age_group_25-30 years               0.1235      0.098      1.258      0.208      -0.069       0.316\n",
      "age_group_31-36 years               0.0874      0.097      0.899      0.368      -0.103       0.278\n",
      "age_group_37-45 years               0.1357      0.098      1.389      0.165      -0.056       0.327\n",
      "age_group_46+ years                -0.0050      0.097     -0.051      0.959      -0.196       0.186\n",
      "meal_type_Dinner                   -0.0167      0.080     -0.209      0.834      -0.173       0.140\n",
      "meal_type_Lunch                    -0.0160      0.081     -0.197      0.844      -0.175       0.143\n",
      "meal_type_Snack                    -0.1149      0.080     -1.434      0.152      -0.272       0.042\n",
      "dietary_preference_Keto            -0.2107      0.089     -2.370      0.018      -0.385      -0.036\n",
      "dietary_preference_Omnivore        -0.0530      0.090     -0.587      0.557      -0.230       0.124\n",
      "dietary_preference_Vegan           -0.1748      0.090     -1.952      0.051      -0.350       0.001\n",
      "dietary_preference_Vegetarian      -0.0830      0.090     -0.921      0.357      -0.260       0.094\n",
      "location_Greenwich                  0.1105      0.089      1.245      0.213      -0.063       0.285\n",
      "location_Hackney                   -0.0572      0.091     -0.632      0.528      -0.235       0.120\n",
      "location_Hammersmith and Fulham     0.0117      0.090      0.131      0.896      -0.164       0.187\n",
      "location_Islington                  0.0719      0.089      0.806      0.420      -0.103       0.247\n",
      "===================================================================================================\n"
     ]
    }
   ],
   "source": [
    "X_retention = pd.get_dummies(data[data['converted']][['subscribing_channel', 'age_group', 'meal_type', 'dietary_preference', 'location']], drop_first=True)\n",
    "y_retention = data[data['converted']]['is_retained']\n",
    "\n",
    "X_retention = sm.add_constant(X_retention)\n",
    "\n",
    "\n",
    "logit_model_retention = sm.Logit(y_retention, X_retention)\n",
    "logit_result_retention = logit_model_retention.fit()\n",
    "\n",
    "print(logit_result_retention.summary())\n"
   ]
  },
  {
   "cell_type": "markdown",
   "id": "d3f5af8c",
   "metadata": {},
   "source": [
    "**Findings:**\n",
    "\n",
    "- **Subscription Rate:**\n",
    " - Marketing channels, particularly Instagram and Facebook, exhibit a positive but marginally significant impact on subscription rates.\n",
    " - House Ads also show a positive effect, though not statistically significant.\n",
    " - Age group, meal type, dietary preferences, and location do not significantly influence subscription likelihood.\n",
    "- **Retention Rate:**\n",
    " - House Ads significantly influence retention, suggesting higher retention for users acquired through this channel.\n",
    " - Users with Keto dietary preferences are significantly less likely to be retained.\n",
    " - Vegan preferences show a borderline negative effect on retention.\n",
    " - Age group, meal type, and location do not have a significant impact on retention."
   ]
  },
  {
   "cell_type": "markdown",
   "id": "f26b1f1c",
   "metadata": {},
   "source": [
    "##### Business Recommendations\n",
    "\n",
    "\n",
    "1. **Targeted Campaigns for Dietary Preferences:** There is a clear preference for Keto and Vegan options among subscribers, particularly for users acquired through influencers. Focused marketing campaigns promoting these meal types can increase subscriptions in months like March and June, where Keto and Vegan options are performing well. Conversely, promoting Vegan and Vegetarian options during slower months, such as February and April, may boost engagement during these periods.\n",
    "\n",
    "2. **Meal Type Promotions:** Breakfast and Lunch meal types show higher subscription rates, likely due to their convenience. Expanding the variety of these meals and offering tailored promotions could further drive both subscriptions and retention. Additionally, more engagement around Snack options, which show varied interest across all channels, could increase customer loyalty.\n",
    "\n",
    "3. **Geographic Targeting:** Greenwich and Islington locations already show strong customer retention. Therefore, strengthening marketing efforts and introducing loyalty programs in these regions could further solidify customer loyalty and increase retention rates. These initiatives could be especially beneficial for regions with lower retention.\n",
    "\n",
    "4. **Age-Specific Marketing:** Younger users (under 18) respond well to Email campaigns, which should be a primary channel for targeting this demographic. For users aged 31-36, Facebook is the most effective platform, while House Ads work best with older users (46+). Instagram and Push notifications should focus on the 25-36 age group, especially for users aged 25-30 on Instagram and 31-36 years for Push notifications.\n",
    "\n",
    "5. **Focus on Gluten-Free Options:** The strong demand for Gluten-Free options suggests an opportunity to expand product offerings for this segment. Introducing more flavours or variations could further improve retention and satisfaction, driving long-term customer loyalty."
   ]
  }
 ],
 "metadata": {
  "kernelspec": {
   "display_name": "Python 3 (ipykernel)",
   "language": "python",
   "name": "python3"
  },
  "language_info": {
   "codemirror_mode": {
    "name": "ipython",
    "version": 3
   },
   "file_extension": ".py",
   "mimetype": "text/x-python",
   "name": "python",
   "nbconvert_exporter": "python",
   "pygments_lexer": "ipython3",
   "version": "3.9.12"
  }
 },
 "nbformat": 4,
 "nbformat_minor": 5
}
